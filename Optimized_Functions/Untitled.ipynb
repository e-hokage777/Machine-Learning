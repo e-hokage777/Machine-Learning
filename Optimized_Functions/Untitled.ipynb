{
 "cells": [
  {
   "cell_type": "code",
   "execution_count": null,
   "id": "a00575c2",
   "metadata": {},
   "outputs": [],
   "source": [
    "\n",
    "####                    OPTIMIZTED GRADIENT DESCENT FUNCTION                   ####\n",
    "def gradientDescent(X,y,theta, num_iters, alpha):\n",
    "    m = X.shape[0]\n",
    "    costs = np.zeros((num_iters,1));\n",
    "    thetas = np.zeros((num_iters,theta.size));\n",
    "    \n",
    "    for i in range(num_iters):\n",
    "        temp_thetas = (theta - alpha * ((np.dot(X.transpose(),(np.dot(X,theta)-y)))/m))\n",
    "\n",
    "        theta = temp_thetas\n",
    "        thetas[i] = temp_thetas.reshape(1,temp_thetas.size)\n",
    "        costs[i] = calculateCost(X,y,theta)\n",
    "    \n",
    "        \n",
    "    return {\"hypothesis_theta\":theta, \"costs\": costs, \"thetas\":thetas}"
   ]
  }
 ],
 "metadata": {
  "kernelspec": {
   "display_name": "Python 3 (ipykernel)",
   "language": "python",
   "name": "python3"
  },
  "language_info": {
   "codemirror_mode": {
    "name": "ipython",
    "version": 3
   },
   "file_extension": ".py",
   "mimetype": "text/x-python",
   "name": "python",
   "nbconvert_exporter": "python",
   "pygments_lexer": "ipython3",
   "version": "3.10.0"
  }
 },
 "nbformat": 4,
 "nbformat_minor": 5
}
